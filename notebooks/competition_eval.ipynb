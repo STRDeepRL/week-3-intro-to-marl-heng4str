{
 "cells": [
  {
   "cell_type": "code",
   "execution_count": 1,
   "metadata": {},
   "outputs": [],
   "source": [
    "import numpy as np\n",
    "import pandas as pd\n",
    "import glob"
   ]
  },
  {
   "cell_type": "code",
   "execution_count": 2,
   "metadata": {},
   "outputs": [],
   "source": [
    "# Load data\n",
    "\n",
    "Result_dir = \"/Users/zla0368/Documents/RL/RL_Class/code/test_hw/week-3-intro-to-marl-heng4str/submission/evaluation_reports/MARL_Competition_Final/\"\n",
    "csv_files = glob.glob(Result_dir + '*.csv')"
   ]
  },
  {
   "cell_type": "code",
   "execution_count": 3,
   "metadata": {},
   "outputs": [],
   "source": [
    "# Load DTDE-1v1-Death_Match-Eval data\n",
    "\n",
    "\n",
    "Death_Match_dfs = []\n",
    "Door_Key_Match_dfs = []\n",
    "\n",
    "for file_name in csv_files:\n",
    "    # print(f\"Checking file: {file_name}\")  # Add a print statement here\n",
    "\n",
    "    if \"heng\" in file_name.split(\"/\")[-1]:\n",
    "        # print(f\"Skipping file: {file_name}\")  # Add a print statement here\n",
    "        continue\n",
    "\n",
    "    if \"Death_Match\" in file_name and \"summary\" in file_name:\n",
    "        # print(f\"Processing as Death_Match file: {file_name}\")  # Add a print statement here\n",
    "        df = pd.read_csv(file_name)\n",
    "        red_policy_id = file_name.split(\"/\")[-1].split(\"_as_Red_VS_\")[0].split(\"_\")[-1]\n",
    "        if red_policy_id == \"policy\":\n",
    "            red_policy_id = file_name.split(\"/\")[-1].split(\"_as_Red_VS_\")[0].split(\"_\")[-2]\n",
    "        blue_policy_id = file_name.split(\"/\")[-1].split(\"_as_Red_VS_\")[1].split(\"_\")[0]\n",
    "        df[\"red_policy_id\"] = red_policy_id\n",
    "        df[\"blue_policy_id\"] = blue_policy_id\n",
    "        Death_Match_dfs.append(df)\n",
    "    elif \"summary\" in file_name and \"Death_Match\" not in file_name:\n",
    "        # print(f\"Processing as Door_Key_Match file: {file_name}\")  # Add a print statement here\n",
    "        df = pd.read_csv(file_name)\n",
    "        red_policy_id = file_name.split(\"/\")[-1].split(\"_as_Red_VS_\")[0].split(\"_\")[-1]\n",
    "        if red_policy_id == \"policy\":\n",
    "            red_policy_id = file_name.split(\"/\")[-1].split(\"_as_Red_VS_\")[0].split(\"_\")[-2]\n",
    "        blue_policy_id = file_name.split(\"/\")[-1].split(\"_as_Red_VS_\")[1].split(\"_\")[0]\n",
    "        df[\"red_policy_id\"] = red_policy_id\n",
    "        df[\"blue_policy_id\"] = blue_policy_id\n",
    "        Door_Key_Match_dfs.append(df)\n",
    "\n",
    "\n",
    "    \n",
    "        \n",
    "\n",
    "\n",
    "\n"
   ]
  },
  {
   "cell_type": "code",
   "execution_count": 4,
   "metadata": {},
   "outputs": [
    {
     "data": {
      "text/plain": [
       "72"
      ]
     },
     "execution_count": 4,
     "metadata": {},
     "output_type": "execute_result"
    }
   ],
   "source": [
    "len(csv_files)"
   ]
  },
  {
   "cell_type": "code",
   "execution_count": 5,
   "metadata": {},
   "outputs": [
    {
     "data": {
      "text/plain": [
       "10"
      ]
     },
     "execution_count": 5,
     "metadata": {},
     "output_type": "execute_result"
    }
   ],
   "source": [
    "len(Door_Key_Match_dfs)"
   ]
  },
  {
   "cell_type": "code",
   "execution_count": 35,
   "metadata": {},
   "outputs": [],
   "source": [
    "len(Door_Key_Match_dfs)\n",
    "\n",
    "Door_Key_Match_df = pd.concat(Door_Key_Match_dfs, ignore_index=True)"
   ]
  },
  {
   "cell_type": "code",
   "execution_count": 36,
   "metadata": {},
   "outputs": [
    {
     "data": {
      "text/html": [
       "<div>\n",
       "<style scoped>\n",
       "    .dataframe tbody tr th:only-of-type {\n",
       "        vertical-align: middle;\n",
       "    }\n",
       "\n",
       "    .dataframe tbody tr th {\n",
       "        vertical-align: top;\n",
       "    }\n",
       "\n",
       "    .dataframe thead th {\n",
       "        text-align: right;\n",
       "    }\n",
       "</style>\n",
       "<table border=\"1\" class=\"dataframe\">\n",
       "  <thead>\n",
       "    <tr style=\"text-align: right;\">\n",
       "      <th></th>\n",
       "      <th>red_0</th>\n",
       "      <th>blue_0</th>\n",
       "      <th>door_open_done</th>\n",
       "      <th>eliminated_opponents_done</th>\n",
       "      <th>got_eliminated_done</th>\n",
       "      <th>eliminated_opponent_num</th>\n",
       "      <th>Episode Length</th>\n",
       "      <th>Solved Ratio</th>\n",
       "      <th>red_policy_id</th>\n",
       "      <th>blue_policy_id</th>\n",
       "      <th>Solved</th>\n",
       "    </tr>\n",
       "  </thead>\n",
       "  <tbody>\n",
       "    <tr>\n",
       "      <th>0</th>\n",
       "      <td>1.530495</td>\n",
       "      <td>-0.3159</td>\n",
       "      <td>0.500000</td>\n",
       "      <td>0.400000</td>\n",
       "      <td>0.1</td>\n",
       "      <td>0.400000</td>\n",
       "      <td>26.1</td>\n",
       "      <td>1.0</td>\n",
       "      <td>pickupper</td>\n",
       "      <td>blather</td>\n",
       "      <td>NaN</td>\n",
       "    </tr>\n",
       "    <tr>\n",
       "      <th>1</th>\n",
       "      <td>0.819400</td>\n",
       "      <td>-0.4504</td>\n",
       "      <td>0.000000</td>\n",
       "      <td>0.500000</td>\n",
       "      <td>0.0</td>\n",
       "      <td>0.500000</td>\n",
       "      <td>159.9</td>\n",
       "      <td>0.5</td>\n",
       "      <td>blather</td>\n",
       "      <td>JaiAslamAgent</td>\n",
       "      <td>NaN</td>\n",
       "    </tr>\n",
       "    <tr>\n",
       "      <th>2</th>\n",
       "      <td>1.253600</td>\n",
       "      <td>-0.4661</td>\n",
       "      <td>0.400000</td>\n",
       "      <td>0.400000</td>\n",
       "      <td>0.0</td>\n",
       "      <td>0.400000</td>\n",
       "      <td>75.2</td>\n",
       "      <td>0.8</td>\n",
       "      <td>jpblackburn</td>\n",
       "      <td>blather</td>\n",
       "      <td>NaN</td>\n",
       "    </tr>\n",
       "    <tr>\n",
       "      <th>3</th>\n",
       "      <td>0.487900</td>\n",
       "      <td>-0.7483</td>\n",
       "      <td>0.000000</td>\n",
       "      <td>0.600000</td>\n",
       "      <td>0.0</td>\n",
       "      <td>0.600000</td>\n",
       "      <td>157.3</td>\n",
       "      <td>0.6</td>\n",
       "      <td>JaiAslamAgent</td>\n",
       "      <td>blather</td>\n",
       "      <td>NaN</td>\n",
       "    </tr>\n",
       "    <tr>\n",
       "      <th>4</th>\n",
       "      <td>1.831685</td>\n",
       "      <td>-0.9042</td>\n",
       "      <td>0.000000</td>\n",
       "      <td>1.000000</td>\n",
       "      <td>0.0</td>\n",
       "      <td>1.000000</td>\n",
       "      <td>22.4</td>\n",
       "      <td>1.0</td>\n",
       "      <td>pickupper</td>\n",
       "      <td>jpblackburn</td>\n",
       "      <td>NaN</td>\n",
       "    </tr>\n",
       "    <tr>\n",
       "      <th>5</th>\n",
       "      <td>1.414400</td>\n",
       "      <td>-1.0018</td>\n",
       "      <td>0.000000</td>\n",
       "      <td>1.000000</td>\n",
       "      <td>0.0</td>\n",
       "      <td>1.000000</td>\n",
       "      <td>11.8</td>\n",
       "      <td>1.0</td>\n",
       "      <td>blather</td>\n",
       "      <td>pickupper</td>\n",
       "      <td>NaN</td>\n",
       "    </tr>\n",
       "    <tr>\n",
       "      <th>6</th>\n",
       "      <td>1.451200</td>\n",
       "      <td>-0.8029</td>\n",
       "      <td>0.200000</td>\n",
       "      <td>0.800000</td>\n",
       "      <td>0.0</td>\n",
       "      <td>0.800000</td>\n",
       "      <td>16.1</td>\n",
       "      <td>1.0</td>\n",
       "      <td>jpblackburn</td>\n",
       "      <td>pickupper</td>\n",
       "      <td>NaN</td>\n",
       "    </tr>\n",
       "    <tr>\n",
       "      <th>7</th>\n",
       "      <td>1.368200</td>\n",
       "      <td>-1.0029</td>\n",
       "      <td>0.000000</td>\n",
       "      <td>1.000000</td>\n",
       "      <td>0.0</td>\n",
       "      <td>1.000000</td>\n",
       "      <td>27.2</td>\n",
       "      <td>1.0</td>\n",
       "      <td>blather</td>\n",
       "      <td>jpblackburn</td>\n",
       "      <td>NaN</td>\n",
       "    </tr>\n",
       "    <tr>\n",
       "      <th>8</th>\n",
       "      <td>0.383700</td>\n",
       "      <td>-0.5825</td>\n",
       "      <td>0.000000</td>\n",
       "      <td>0.400000</td>\n",
       "      <td>0.0</td>\n",
       "      <td>0.400000</td>\n",
       "      <td>188.2</td>\n",
       "      <td>0.4</td>\n",
       "      <td>JaiAslamAgent</td>\n",
       "      <td>pickupper</td>\n",
       "      <td>NaN</td>\n",
       "    </tr>\n",
       "    <tr>\n",
       "      <th>9</th>\n",
       "      <td>1.249335</td>\n",
       "      <td>0.0822</td>\n",
       "      <td>0.555556</td>\n",
       "      <td>0.222222</td>\n",
       "      <td>0.3</td>\n",
       "      <td>0.222222</td>\n",
       "      <td>21.9</td>\n",
       "      <td>1.0</td>\n",
       "      <td>pickupper</td>\n",
       "      <td>JaiAslamAgent</td>\n",
       "      <td>1.0</td>\n",
       "    </tr>\n",
       "  </tbody>\n",
       "</table>\n",
       "</div>"
      ],
      "text/plain": [
       "      red_0  blue_0  door_open_done  eliminated_opponents_done  \\\n",
       "0  1.530495 -0.3159        0.500000                   0.400000   \n",
       "1  0.819400 -0.4504        0.000000                   0.500000   \n",
       "2  1.253600 -0.4661        0.400000                   0.400000   \n",
       "3  0.487900 -0.7483        0.000000                   0.600000   \n",
       "4  1.831685 -0.9042        0.000000                   1.000000   \n",
       "5  1.414400 -1.0018        0.000000                   1.000000   \n",
       "6  1.451200 -0.8029        0.200000                   0.800000   \n",
       "7  1.368200 -1.0029        0.000000                   1.000000   \n",
       "8  0.383700 -0.5825        0.000000                   0.400000   \n",
       "9  1.249335  0.0822        0.555556                   0.222222   \n",
       "\n",
       "   got_eliminated_done  eliminated_opponent_num  Episode Length  Solved Ratio  \\\n",
       "0                  0.1                 0.400000            26.1           1.0   \n",
       "1                  0.0                 0.500000           159.9           0.5   \n",
       "2                  0.0                 0.400000            75.2           0.8   \n",
       "3                  0.0                 0.600000           157.3           0.6   \n",
       "4                  0.0                 1.000000            22.4           1.0   \n",
       "5                  0.0                 1.000000            11.8           1.0   \n",
       "6                  0.0                 0.800000            16.1           1.0   \n",
       "7                  0.0                 1.000000            27.2           1.0   \n",
       "8                  0.0                 0.400000           188.2           0.4   \n",
       "9                  0.3                 0.222222            21.9           1.0   \n",
       "\n",
       "   red_policy_id blue_policy_id  Solved  \n",
       "0      pickupper        blather     NaN  \n",
       "1        blather  JaiAslamAgent     NaN  \n",
       "2    jpblackburn        blather     NaN  \n",
       "3  JaiAslamAgent        blather     NaN  \n",
       "4      pickupper    jpblackburn     NaN  \n",
       "5        blather      pickupper     NaN  \n",
       "6    jpblackburn      pickupper     NaN  \n",
       "7        blather    jpblackburn     NaN  \n",
       "8  JaiAslamAgent      pickupper     NaN  \n",
       "9      pickupper  JaiAslamAgent     1.0  "
      ]
     },
     "execution_count": 36,
     "metadata": {},
     "output_type": "execute_result"
    }
   ],
   "source": [
    "Door_Key_Match_df"
   ]
  },
  {
   "cell_type": "code",
   "execution_count": 37,
   "metadata": {},
   "outputs": [
    {
     "name": "stdout",
     "output_type": "stream",
     "text": [
      "   red_policy_id     red_0  Solved Ratio\n",
      "0      pickupper  1.537172      1.000000\n",
      "1    jpblackburn  1.352400      0.900000\n",
      "2        blather  1.200667      0.833333\n",
      "3  JaiAslamAgent  0.435800      0.500000\n"
     ]
    }
   ],
   "source": [
    "import pandas as pd\n",
    "\n",
    "# Your DataFrame is stored in df\n",
    "\n",
    "# Group by 'red_policy_id' and compute the mean for 'red_0' and 'Solved Ratio'\n",
    "# Group by 'red_policy_id' and compute the mean for 'red_0' and 'Solved Ratio'\n",
    "grouped = Door_Key_Match_df.groupby('red_policy_id')[['red_0', 'Solved Ratio']].mean()\n",
    "\n",
    "\n",
    "# Now sort the grouped DataFrame based on 'red_0' and 'Solved Ratio'\n",
    "# Sort by multiple columns by passing a list of column names\n",
    "red_ranked = grouped.sort_values(by=['red_0', 'Solved Ratio'], ascending=[False, False]).reset_index()\n",
    "\n",
    "# The 'ranked' DataFrame now contains the ranking of red policies\n",
    "# based on the average 'red_0' and 'Solved Ratio'\n",
    "print(red_ranked)\n"
   ]
  },
  {
   "cell_type": "code",
   "execution_count": 38,
   "metadata": {},
   "outputs": [],
   "source": [
    "red_ranked = red_ranked.rename(columns={'red_0' : \"Average Reward as Red\", 'Solved Ratio': \"Win Rate\"})"
   ]
  },
  {
   "cell_type": "code",
   "execution_count": 39,
   "metadata": {},
   "outputs": [
    {
     "data": {
      "text/html": [
       "<style type=\"text/css\">\n",
       "#T_d1c45 th {\n",
       "  background: #606060;\n",
       "  color: white;\n",
       "  font-family: verdana;\n",
       "}\n",
       "</style>\n",
       "<table id=\"T_d1c45\">\n",
       "  <thead>\n",
       "    <tr>\n",
       "      <th class=\"blank level0\" >&nbsp;</th>\n",
       "      <th id=\"T_d1c45_level0_col0\" class=\"col_heading level0 col0\" >red_policy_id</th>\n",
       "      <th id=\"T_d1c45_level0_col1\" class=\"col_heading level0 col1\" >Average Reward as Red</th>\n",
       "      <th id=\"T_d1c45_level0_col2\" class=\"col_heading level0 col2\" >Win Rate</th>\n",
       "    </tr>\n",
       "  </thead>\n",
       "  <tbody>\n",
       "    <tr>\n",
       "      <th id=\"T_d1c45_level0_row0\" class=\"row_heading level0 row0\" >0</th>\n",
       "      <td id=\"T_d1c45_row0_col0\" class=\"data row0 col0\" >pickupper</td>\n",
       "      <td id=\"T_d1c45_row0_col1\" class=\"data row0 col1\" >1.537172</td>\n",
       "      <td id=\"T_d1c45_row0_col2\" class=\"data row0 col2\" >1.000000</td>\n",
       "    </tr>\n",
       "    <tr>\n",
       "      <th id=\"T_d1c45_level0_row1\" class=\"row_heading level0 row1\" >1</th>\n",
       "      <td id=\"T_d1c45_row1_col0\" class=\"data row1 col0\" >jpblackburn</td>\n",
       "      <td id=\"T_d1c45_row1_col1\" class=\"data row1 col1\" >1.352400</td>\n",
       "      <td id=\"T_d1c45_row1_col2\" class=\"data row1 col2\" >0.900000</td>\n",
       "    </tr>\n",
       "    <tr>\n",
       "      <th id=\"T_d1c45_level0_row2\" class=\"row_heading level0 row2\" >2</th>\n",
       "      <td id=\"T_d1c45_row2_col0\" class=\"data row2 col0\" >blather</td>\n",
       "      <td id=\"T_d1c45_row2_col1\" class=\"data row2 col1\" >1.200667</td>\n",
       "      <td id=\"T_d1c45_row2_col2\" class=\"data row2 col2\" >0.833333</td>\n",
       "    </tr>\n",
       "    <tr>\n",
       "      <th id=\"T_d1c45_level0_row3\" class=\"row_heading level0 row3\" >3</th>\n",
       "      <td id=\"T_d1c45_row3_col0\" class=\"data row3 col0\" >JaiAslamAgent</td>\n",
       "      <td id=\"T_d1c45_row3_col1\" class=\"data row3 col1\" >0.435800</td>\n",
       "      <td id=\"T_d1c45_row3_col2\" class=\"data row3 col2\" >0.500000</td>\n",
       "    </tr>\n",
       "  </tbody>\n",
       "</table>\n"
      ],
      "text/plain": [
       "<pandas.io.formats.style.Styler at 0x7fb4a9a9ece0>"
      ]
     },
     "execution_count": 39,
     "metadata": {},
     "output_type": "execute_result"
    }
   ],
   "source": [
    "# Assuming your DataFrame is stored in a variable called 'df'\n",
    "styled_df = red_ranked.style.set_table_styles(\n",
    "    [{\n",
    "        'selector': 'th',\n",
    "        'props': [('background', '#606060'), \n",
    "                  ('color', 'white'),\n",
    "                  ('font-family', 'verdana')]\n",
    "    }]\n",
    ")\n",
    "\n",
    "# To display in Jupyter Notebook, just put this in a cell:\n",
    "styled_df\n"
   ]
  },
  {
   "cell_type": "code",
   "execution_count": 40,
   "metadata": {},
   "outputs": [],
   "source": [
    "import matplotlib.pyplot as plt\n",
    "import seaborn as sns\n",
    "\n"
   ]
  },
  {
   "cell_type": "code",
   "execution_count": 41,
   "metadata": {},
   "outputs": [
    {
     "data": {
      "image/png": "[encoded data removed]",
      "text/plain": [
       "<Figure size 1000x600 with 2 Axes>"
      ]
     },
     "metadata": {},
     "output_type": "display_data"
    }
   ],
   "source": [
    "fig, ax1 = plt.subplots(figsize=(10, 6))\n",
    "\n",
    "# Bar plot for Average Reward\n",
    "sns.barplot(data=red_ranked, x='red_policy_id', y='Average Reward as Red', palette='viridis', ax=ax1)\n",
    "ax1.set_title('Average Reward and Win Rate for each Policy')\n",
    "\n",
    "# Line plot for Win Rate\n",
    "ax2 = ax1.twinx()\n",
    "sns.lineplot(data=red_ranked, x='red_policy_id', y='Win Rate', color='b', marker=\"o\", ax=ax2)\n",
    "ax2.set_ylabel('Win Rate')\n",
    "\n",
    "plt.show()"
   ]
  },
  {
   "cell_type": "code",
   "execution_count": null,
   "metadata": {},
   "outputs": [],
   "source": []
  },
  {
   "cell_type": "code",
   "execution_count": 42,
   "metadata": {},
   "outputs": [
    {
     "name": "stdout",
     "output_type": "stream",
     "text": [
      "  blue_policy_id    blue_0  Solved Ratio\n",
      "0  JaiAslamAgent -0.184100          0.75\n",
      "1        blather -0.510100          0.80\n",
      "2      pickupper -0.795733          0.80\n",
      "3    jpblackburn -0.953550          1.00\n"
     ]
    }
   ],
   "source": [
    "import pandas as pd\n",
    "\n",
    "# Your DataFrame is stored in df\n",
    "\n",
    "# Group by 'red_policy_id' and compute the mean for 'red_0' and 'Solved Ratio'\n",
    "# Group by 'red_policy_id' and compute the mean for 'red_0' and 'Solved Ratio'\n",
    "grouped = Door_Key_Match_df.groupby('blue_policy_id')[['blue_0', 'Solved Ratio']].mean()\n",
    "\n",
    "\n",
    "# Now sort the grouped DataFrame based on 'red_0' and 'Solved Ratio'\n",
    "# Sort by multiple columns by passing a list of column names\n",
    "blue_ranked = grouped.sort_values(by=['blue_0', 'Solved Ratio'], ascending=[False, False]).reset_index()\n",
    "\n",
    "# The 'ranked' DataFrame now contains the ranking of red policies\n",
    "# based on the average 'red_0' and 'Solved Ratio'\n",
    "print(blue_ranked)\n"
   ]
  },
  {
   "cell_type": "code",
   "execution_count": 43,
   "metadata": {},
   "outputs": [],
   "source": [
    "blue_ranked = blue_ranked.rename(columns={'blue_0' : \"Average Reward as Blue\", 'Solved Ratio': \"Win Rate\"})"
   ]
  },
  {
   "cell_type": "code",
   "execution_count": 44,
   "metadata": {},
   "outputs": [
    {
     "data": {
      "text/html": [
       "<style type=\"text/css\">\n",
       "#T_f2920 th {\n",
       "  background: #606060;\n",
       "  color: white;\n",
       "  font-family: verdana;\n",
       "}\n",
       "</style>\n",
       "<table id=\"T_f2920\">\n",
       "  <thead>\n",
       "    <tr>\n",
       "      <th class=\"blank level0\" >&nbsp;</th>\n",
       "      <th id=\"T_f2920_level0_col0\" class=\"col_heading level0 col0\" >blue_policy_id</th>\n",
       "      <th id=\"T_f2920_level0_col1\" class=\"col_heading level0 col1\" >Average Reward as Blue</th>\n",
       "      <th id=\"T_f2920_level0_col2\" class=\"col_heading level0 col2\" >Win Rate</th>\n",
       "    </tr>\n",
       "  </thead>\n",
       "  <tbody>\n",
       "    <tr>\n",
       "      <th id=\"T_f2920_level0_row0\" class=\"row_heading level0 row0\" >0</th>\n",
       "      <td id=\"T_f2920_row0_col0\" class=\"data row0 col0\" >JaiAslamAgent</td>\n",
       "      <td id=\"T_f2920_row0_col1\" class=\"data row0 col1\" >-0.184100</td>\n",
       "      <td id=\"T_f2920_row0_col2\" class=\"data row0 col2\" >0.750000</td>\n",
       "    </tr>\n",
       "    <tr>\n",
       "      <th id=\"T_f2920_level0_row1\" class=\"row_heading level0 row1\" >1</th>\n",
       "      <td id=\"T_f2920_row1_col0\" class=\"data row1 col0\" >blather</td>\n",
       "      <td id=\"T_f2920_row1_col1\" class=\"data row1 col1\" >-0.510100</td>\n",
       "      <td id=\"T_f2920_row1_col2\" class=\"data row1 col2\" >0.800000</td>\n",
       "    </tr>\n",
       "    <tr>\n",
       "      <th id=\"T_f2920_level0_row2\" class=\"row_heading level0 row2\" >2</th>\n",
       "      <td id=\"T_f2920_row2_col0\" class=\"data row2 col0\" >pickupper</td>\n",
       "      <td id=\"T_f2920_row2_col1\" class=\"data row2 col1\" >-0.795733</td>\n",
       "      <td id=\"T_f2920_row2_col2\" class=\"data row2 col2\" >0.800000</td>\n",
       "    </tr>\n",
       "    <tr>\n",
       "      <th id=\"T_f2920_level0_row3\" class=\"row_heading level0 row3\" >3</th>\n",
       "      <td id=\"T_f2920_row3_col0\" class=\"data row3 col0\" >jpblackburn</td>\n",
       "      <td id=\"T_f2920_row3_col1\" class=\"data row3 col1\" >-0.953550</td>\n",
       "      <td id=\"T_f2920_row3_col2\" class=\"data row3 col2\" >1.000000</td>\n",
       "    </tr>\n",
       "  </tbody>\n",
       "</table>\n"
      ],
      "text/plain": [
       "<pandas.io.formats.style.Styler at 0x7fb44849c8e0>"
      ]
     },
     "execution_count": 44,
     "metadata": {},
     "output_type": "execute_result"
    }
   ],
   "source": [
    "# Assuming your DataFrame is stored in a variable called 'df'\n",
    "styled_df = blue_ranked.style.set_table_styles(\n",
    "    [{\n",
    "        'selector': 'th',\n",
    "        'props': [('background', '#606060'), \n",
    "                  ('color', 'white'),\n",
    "                  ('font-family', 'verdana')]\n",
    "    }]\n",
    ")\n",
    "\n",
    "# To display in Jupyter Notebook, just put this in a cell:\n",
    "styled_df\n"
   ]
  },
  {
   "cell_type": "code",
   "execution_count": 45,
   "metadata": {},
   "outputs": [
    {
     "data": {
      "image/png": "[encoded data removed]",
      "text/plain": [
       "<Figure size 1000x600 with 2 Axes>"
      ]
     },
     "metadata": {},
     "output_type": "display_data"
    }
   ],
   "source": [
    "fig, ax1 = plt.subplots(figsize=(10, 6))\n",
    "\n",
    "# Bar plot for Average Reward\n",
    "sns.barplot(data=blue_ranked, x='blue_policy_id', y='Average Reward as Blue', palette='viridis', ax=ax1)\n",
    "ax1.set_title('Average Reward and Win Rate for each Policy')\n",
    "\n",
    "# Line plot for Win Rate\n",
    "ax2 = ax1.twinx()\n",
    "sns.lineplot(data=blue_ranked, x='blue_policy_id', y='Win Rate', color='b', marker=\"o\", ax=ax2)\n",
    "ax2.set_ylabel('Win Rate')\n",
    "\n",
    "plt.show()"
   ]
  },
  {
   "cell_type": "code",
   "execution_count": null,
   "metadata": {},
   "outputs": [],
   "source": []
  },
  {
   "cell_type": "code",
   "execution_count": null,
   "metadata": {},
   "outputs": [],
   "source": []
  },
  {
   "cell_type": "code",
   "execution_count": null,
   "metadata": {},
   "outputs": [],
   "source": []
  },
  {
   "cell_type": "code",
   "execution_count": null,
   "metadata": {},
   "outputs": [],
   "source": []
  },
  {
   "cell_type": "code",
   "execution_count": 15,
   "metadata": {},
   "outputs": [
    {
     "name": "stdout",
     "output_type": "stream",
     "text": [
      "   Red Policy ID  Average Reward\n",
      "0      pickupper        1.537172\n",
      "1    jpblackburn        1.352400\n",
      "2        blather        1.200667\n",
      "3  JaiAslamAgent        0.435800\n"
     ]
    }
   ],
   "source": [
    "# Group by 'red_policy_id' and calculate the mean of 'red_0' for each group\n",
    "red_policy_rewards = Door_Key_Match_df.groupby('red_policy_id')['red_0'].mean()\n",
    "\n",
    "# Sort the policies by their mean rewards in descending order\n",
    "red_policy_ranking = red_policy_rewards.sort_values(ascending=False)\n",
    "\n",
    "# Reset index to make it look more like a DataFrame\n",
    "red_policy_ranking = red_policy_ranking.reset_index()\n",
    "\n",
    "# Rename columns for clarity\n",
    "red_policy_ranking.columns = ['Red Policy ID', 'Average Reward']\n",
    "\n",
    "# Display the ranking\n",
    "print(red_policy_ranking)"
   ]
  },
  {
   "cell_type": "code",
   "execution_count": 16,
   "metadata": {},
   "outputs": [
    {
     "name": "stdout",
     "output_type": "stream",
     "text": [
      "  Blue Policy ID  Average Reward\n",
      "0  JaiAslamAgent       -0.184100\n",
      "1        blather       -0.510100\n",
      "2      pickupper       -0.795733\n",
      "3    jpblackburn       -0.953550\n"
     ]
    }
   ],
   "source": [
    "# Group by 'red_policy_id' and calculate the mean of 'red_0' for each group\n",
    "blue_policy_rewards = Door_Key_Match_df.groupby('blue_policy_id')['blue_0'].mean()\n",
    "\n",
    "# Sort the policies by their mean rewards in descending order\n",
    "blue_policy_ranking = blue_policy_rewards.sort_values(ascending=False)\n",
    "\n",
    "# Reset index to make it look more like a DataFrame\n",
    "blue_policy_ranking = blue_policy_ranking.reset_index()\n",
    "\n",
    "# Rename columns for clarity\n",
    "blue_policy_ranking.columns = ['Blue Policy ID', 'Average Reward']\n",
    "\n",
    "# Display the ranking\n",
    "print(blue_policy_ranking)"
   ]
  },
  {
   "cell_type": "code",
   "execution_count": null,
   "metadata": {},
   "outputs": [],
   "source": []
  },
  {
   "cell_type": "code",
   "execution_count": null,
   "metadata": {},
   "outputs": [],
   "source": []
  },
  {
   "cell_type": "code",
   "execution_count": null,
   "metadata": {},
   "outputs": [],
   "source": []
  },
  {
   "cell_type": "code",
   "execution_count": null,
   "metadata": {},
   "outputs": [],
   "source": []
  },
  {
   "cell_type": "code",
   "execution_count": 17,
   "metadata": {},
   "outputs": [],
   "source": [
    "Door_Key_Match_df['Rank'] = Door_Key_Match_df.groupby('red_policy_id')['Solved Ratio'].rank(ascending=False, method='min')\n",
    "\n",
    "# to sort the DataFrame by the ranks\n",
    "Door_Key_Match_df.sort_values(by=['red_policy_id', 'Rank'], inplace=True)\n",
    "\n",
    "# to reset the index\n",
    "Door_Key_Match_df.reset_index(drop=True, inplace=True)"
   ]
  },
  {
   "cell_type": "code",
   "execution_count": 18,
   "metadata": {},
   "outputs": [
    {
     "data": {
      "text/html": [
       "<div>\n",
       "<style scoped>\n",
       "    .dataframe tbody tr th:only-of-type {\n",
       "        vertical-align: middle;\n",
       "    }\n",
       "\n",
       "    .dataframe tbody tr th {\n",
       "        vertical-align: top;\n",
       "    }\n",
       "\n",
       "    .dataframe thead th {\n",
       "        text-align: right;\n",
       "    }\n",
       "</style>\n",
       "<table border=\"1\" class=\"dataframe\">\n",
       "  <thead>\n",
       "    <tr style=\"text-align: right;\">\n",
       "      <th></th>\n",
       "      <th>red_0</th>\n",
       "      <th>blue_0</th>\n",
       "      <th>door_open_done</th>\n",
       "      <th>eliminated_opponents_done</th>\n",
       "      <th>got_eliminated_done</th>\n",
       "      <th>eliminated_opponent_num</th>\n",
       "      <th>Episode Length</th>\n",
       "      <th>Solved Ratio</th>\n",
       "      <th>red_policy_id</th>\n",
       "      <th>blue_policy_id</th>\n",
       "      <th>Solved</th>\n",
       "      <th>Rank</th>\n",
       "    </tr>\n",
       "  </thead>\n",
       "  <tbody>\n",
       "    <tr>\n",
       "      <th>0</th>\n",
       "      <td>0.487900</td>\n",
       "      <td>-0.7483</td>\n",
       "      <td>0.000000</td>\n",
       "      <td>0.600000</td>\n",
       "      <td>0.0</td>\n",
       "      <td>0.600000</td>\n",
       "      <td>157.3</td>\n",
       "      <td>0.6</td>\n",
       "      <td>JaiAslamAgent</td>\n",
       "      <td>blather</td>\n",
       "      <td>NaN</td>\n",
       "      <td>1.0</td>\n",
       "    </tr>\n",
       "    <tr>\n",
       "      <th>1</th>\n",
       "      <td>0.383700</td>\n",
       "      <td>-0.5825</td>\n",
       "      <td>0.000000</td>\n",
       "      <td>0.400000</td>\n",
       "      <td>0.0</td>\n",
       "      <td>0.400000</td>\n",
       "      <td>188.2</td>\n",
       "      <td>0.4</td>\n",
       "      <td>JaiAslamAgent</td>\n",
       "      <td>pickupper</td>\n",
       "      <td>NaN</td>\n",
       "      <td>2.0</td>\n",
       "    </tr>\n",
       "    <tr>\n",
       "      <th>2</th>\n",
       "      <td>1.414400</td>\n",
       "      <td>-1.0018</td>\n",
       "      <td>0.000000</td>\n",
       "      <td>1.000000</td>\n",
       "      <td>0.0</td>\n",
       "      <td>1.000000</td>\n",
       "      <td>11.8</td>\n",
       "      <td>1.0</td>\n",
       "      <td>blather</td>\n",
       "      <td>pickupper</td>\n",
       "      <td>NaN</td>\n",
       "      <td>1.0</td>\n",
       "    </tr>\n",
       "    <tr>\n",
       "      <th>3</th>\n",
       "      <td>1.368200</td>\n",
       "      <td>-1.0029</td>\n",
       "      <td>0.000000</td>\n",
       "      <td>1.000000</td>\n",
       "      <td>0.0</td>\n",
       "      <td>1.000000</td>\n",
       "      <td>27.2</td>\n",
       "      <td>1.0</td>\n",
       "      <td>blather</td>\n",
       "      <td>jpblackburn</td>\n",
       "      <td>NaN</td>\n",
       "      <td>1.0</td>\n",
       "    </tr>\n",
       "    <tr>\n",
       "      <th>4</th>\n",
       "      <td>0.819400</td>\n",
       "      <td>-0.4504</td>\n",
       "      <td>0.000000</td>\n",
       "      <td>0.500000</td>\n",
       "      <td>0.0</td>\n",
       "      <td>0.500000</td>\n",
       "      <td>159.9</td>\n",
       "      <td>0.5</td>\n",
       "      <td>blather</td>\n",
       "      <td>JaiAslamAgent</td>\n",
       "      <td>NaN</td>\n",
       "      <td>3.0</td>\n",
       "    </tr>\n",
       "    <tr>\n",
       "      <th>5</th>\n",
       "      <td>1.451200</td>\n",
       "      <td>-0.8029</td>\n",
       "      <td>0.200000</td>\n",
       "      <td>0.800000</td>\n",
       "      <td>0.0</td>\n",
       "      <td>0.800000</td>\n",
       "      <td>16.1</td>\n",
       "      <td>1.0</td>\n",
       "      <td>jpblackburn</td>\n",
       "      <td>pickupper</td>\n",
       "      <td>NaN</td>\n",
       "      <td>1.0</td>\n",
       "    </tr>\n",
       "    <tr>\n",
       "      <th>6</th>\n",
       "      <td>1.253600</td>\n",
       "      <td>-0.4661</td>\n",
       "      <td>0.400000</td>\n",
       "      <td>0.400000</td>\n",
       "      <td>0.0</td>\n",
       "      <td>0.400000</td>\n",
       "      <td>75.2</td>\n",
       "      <td>0.8</td>\n",
       "      <td>jpblackburn</td>\n",
       "      <td>blather</td>\n",
       "      <td>NaN</td>\n",
       "      <td>2.0</td>\n",
       "    </tr>\n",
       "    <tr>\n",
       "      <th>7</th>\n",
       "      <td>1.530495</td>\n",
       "      <td>-0.3159</td>\n",
       "      <td>0.500000</td>\n",
       "      <td>0.400000</td>\n",
       "      <td>0.1</td>\n",
       "      <td>0.400000</td>\n",
       "      <td>26.1</td>\n",
       "      <td>1.0</td>\n",
       "      <td>pickupper</td>\n",
       "      <td>blather</td>\n",
       "      <td>NaN</td>\n",
       "      <td>1.0</td>\n",
       "    </tr>\n",
       "    <tr>\n",
       "      <th>8</th>\n",
       "      <td>1.831685</td>\n",
       "      <td>-0.9042</td>\n",
       "      <td>0.000000</td>\n",
       "      <td>1.000000</td>\n",
       "      <td>0.0</td>\n",
       "      <td>1.000000</td>\n",
       "      <td>22.4</td>\n",
       "      <td>1.0</td>\n",
       "      <td>pickupper</td>\n",
       "      <td>jpblackburn</td>\n",
       "      <td>NaN</td>\n",
       "      <td>1.0</td>\n",
       "    </tr>\n",
       "    <tr>\n",
       "      <th>9</th>\n",
       "      <td>1.249335</td>\n",
       "      <td>0.0822</td>\n",
       "      <td>0.555556</td>\n",
       "      <td>0.222222</td>\n",
       "      <td>0.3</td>\n",
       "      <td>0.222222</td>\n",
       "      <td>21.9</td>\n",
       "      <td>1.0</td>\n",
       "      <td>pickupper</td>\n",
       "      <td>JaiAslamAgent</td>\n",
       "      <td>1.0</td>\n",
       "      <td>1.0</td>\n",
       "    </tr>\n",
       "  </tbody>\n",
       "</table>\n",
       "</div>"
      ],
      "text/plain": [
       "      red_0  blue_0  door_open_done  eliminated_opponents_done  \\\n",
       "0  0.487900 -0.7483        0.000000                   0.600000   \n",
       "1  0.383700 -0.5825        0.000000                   0.400000   \n",
       "2  1.414400 -1.0018        0.000000                   1.000000   \n",
       "3  1.368200 -1.0029        0.000000                   1.000000   \n",
       "4  0.819400 -0.4504        0.000000                   0.500000   \n",
       "5  1.451200 -0.8029        0.200000                   0.800000   \n",
       "6  1.253600 -0.4661        0.400000                   0.400000   \n",
       "7  1.530495 -0.3159        0.500000                   0.400000   \n",
       "8  1.831685 -0.9042        0.000000                   1.000000   \n",
       "9  1.249335  0.0822        0.555556                   0.222222   \n",
       "\n",
       "   got_eliminated_done  eliminated_opponent_num  Episode Length  Solved Ratio  \\\n",
       "0                  0.0                 0.600000           157.3           0.6   \n",
       "1                  0.0                 0.400000           188.2           0.4   \n",
       "2                  0.0                 1.000000            11.8           1.0   \n",
       "3                  0.0                 1.000000            27.2           1.0   \n",
       "4                  0.0                 0.500000           159.9           0.5   \n",
       "5                  0.0                 0.800000            16.1           1.0   \n",
       "6                  0.0                 0.400000            75.2           0.8   \n",
       "7                  0.1                 0.400000            26.1           1.0   \n",
       "8                  0.0                 1.000000            22.4           1.0   \n",
       "9                  0.3                 0.222222            21.9           1.0   \n",
       "\n",
       "   red_policy_id blue_policy_id  Solved  Rank  \n",
       "0  JaiAslamAgent        blather     NaN   1.0  \n",
       "1  JaiAslamAgent      pickupper     NaN   2.0  \n",
       "2        blather      pickupper     NaN   1.0  \n",
       "3        blather    jpblackburn     NaN   1.0  \n",
       "4        blather  JaiAslamAgent     NaN   3.0  \n",
       "5    jpblackburn      pickupper     NaN   1.0  \n",
       "6    jpblackburn        blather     NaN   2.0  \n",
       "7      pickupper        blather     NaN   1.0  \n",
       "8      pickupper    jpblackburn     NaN   1.0  \n",
       "9      pickupper  JaiAslamAgent     1.0   1.0  "
      ]
     },
     "execution_count": 18,
     "metadata": {},
     "output_type": "execute_result"
    }
   ],
   "source": [
    "Door_Key_Match_df"
   ]
  },
  {
   "cell_type": "code",
   "execution_count": null,
   "metadata": {},
   "outputs": [],
   "source": []
  },
  {
   "cell_type": "code",
   "execution_count": 19,
   "metadata": {},
   "outputs": [],
   "source": [
    "len(Death_Match_dfs)\n",
    "\n",
    "\n",
    "Death_Match_dfs_df = pd.concat(Death_Match_dfs, ignore_index=True)"
   ]
  },
  {
   "cell_type": "code",
   "execution_count": 20,
   "metadata": {},
   "outputs": [
    {
     "data": {
      "text/html": [
       "<div>\n",
       "<style scoped>\n",
       "    .dataframe tbody tr th:only-of-type {\n",
       "        vertical-align: middle;\n",
       "    }\n",
       "\n",
       "    .dataframe tbody tr th {\n",
       "        vertical-align: top;\n",
       "    }\n",
       "\n",
       "    .dataframe thead th {\n",
       "        text-align: right;\n",
       "    }\n",
       "</style>\n",
       "<table border=\"1\" class=\"dataframe\">\n",
       "  <thead>\n",
       "    <tr style=\"text-align: right;\">\n",
       "      <th></th>\n",
       "      <th>red_0</th>\n",
       "      <th>blue_0</th>\n",
       "      <th>door_open_done</th>\n",
       "      <th>eliminated_opponents_done</th>\n",
       "      <th>got_eliminated_done</th>\n",
       "      <th>eliminated_opponent_num</th>\n",
       "      <th>Episode Length</th>\n",
       "      <th>Solved Ratio</th>\n",
       "      <th>red_policy_id</th>\n",
       "      <th>blue_policy_id</th>\n",
       "    </tr>\n",
       "  </thead>\n",
       "  <tbody>\n",
       "    <tr>\n",
       "      <th>0</th>\n",
       "      <td>-0.807811</td>\n",
       "      <td>0.6687</td>\n",
       "      <td>0.0</td>\n",
       "      <td>0.1</td>\n",
       "      <td>0.9</td>\n",
       "      <td>0.1</td>\n",
       "      <td>45.2</td>\n",
       "      <td>1.0</td>\n",
       "      <td>pickupper</td>\n",
       "      <td>JaiAslamAgent</td>\n",
       "    </tr>\n",
       "    <tr>\n",
       "      <th>1</th>\n",
       "      <td>0.298900</td>\n",
       "      <td>-0.5592</td>\n",
       "      <td>0.0</td>\n",
       "      <td>0.6</td>\n",
       "      <td>0.2</td>\n",
       "      <td>0.6</td>\n",
       "      <td>123.6</td>\n",
       "      <td>0.8</td>\n",
       "      <td>jpblackburn</td>\n",
       "      <td>blather</td>\n",
       "    </tr>\n",
       "    <tr>\n",
       "      <th>2</th>\n",
       "      <td>0.973000</td>\n",
       "      <td>-1.0015</td>\n",
       "      <td>0.0</td>\n",
       "      <td>1.0</td>\n",
       "      <td>0.0</td>\n",
       "      <td>1.0</td>\n",
       "      <td>9.0</td>\n",
       "      <td>1.0</td>\n",
       "      <td>JaiAslamAgent</td>\n",
       "      <td>pickupper</td>\n",
       "    </tr>\n",
       "    <tr>\n",
       "      <th>3</th>\n",
       "      <td>0.142456</td>\n",
       "      <td>-0.3018</td>\n",
       "      <td>0.0</td>\n",
       "      <td>0.6</td>\n",
       "      <td>0.4</td>\n",
       "      <td>0.6</td>\n",
       "      <td>45.3</td>\n",
       "      <td>1.0</td>\n",
       "      <td>pickupper</td>\n",
       "      <td>blather</td>\n",
       "    </tr>\n",
       "    <tr>\n",
       "      <th>4</th>\n",
       "      <td>0.715100</td>\n",
       "      <td>-0.8182</td>\n",
       "      <td>0.0</td>\n",
       "      <td>0.9</td>\n",
       "      <td>0.1</td>\n",
       "      <td>0.9</td>\n",
       "      <td>32.8</td>\n",
       "      <td>1.0</td>\n",
       "      <td>jpblackburn</td>\n",
       "      <td>pickupper</td>\n",
       "    </tr>\n",
       "    <tr>\n",
       "      <th>5</th>\n",
       "      <td>0.960600</td>\n",
       "      <td>-1.0012</td>\n",
       "      <td>0.0</td>\n",
       "      <td>1.0</td>\n",
       "      <td>0.0</td>\n",
       "      <td>1.0</td>\n",
       "      <td>13.1</td>\n",
       "      <td>1.0</td>\n",
       "      <td>blather</td>\n",
       "      <td>pickupper</td>\n",
       "    </tr>\n",
       "    <tr>\n",
       "      <th>6</th>\n",
       "      <td>-0.308500</td>\n",
       "      <td>0.2568</td>\n",
       "      <td>0.0</td>\n",
       "      <td>0.0</td>\n",
       "      <td>0.3</td>\n",
       "      <td>0.0</td>\n",
       "      <td>224.4</td>\n",
       "      <td>0.3</td>\n",
       "      <td>blather</td>\n",
       "      <td>JaiAslamAgent</td>\n",
       "    </tr>\n",
       "    <tr>\n",
       "      <th>7</th>\n",
       "      <td>0.314600</td>\n",
       "      <td>-0.7054</td>\n",
       "      <td>0.0</td>\n",
       "      <td>0.5</td>\n",
       "      <td>0.0</td>\n",
       "      <td>0.5</td>\n",
       "      <td>211.8</td>\n",
       "      <td>0.5</td>\n",
       "      <td>JaiAslamAgent</td>\n",
       "      <td>blather</td>\n",
       "    </tr>\n",
       "    <tr>\n",
       "      <th>8</th>\n",
       "      <td>0.940800</td>\n",
       "      <td>-1.0012</td>\n",
       "      <td>0.0</td>\n",
       "      <td>1.0</td>\n",
       "      <td>0.0</td>\n",
       "      <td>1.0</td>\n",
       "      <td>19.2</td>\n",
       "      <td>1.0</td>\n",
       "      <td>blather</td>\n",
       "      <td>jpblackburn</td>\n",
       "    </tr>\n",
       "    <tr>\n",
       "      <th>9</th>\n",
       "      <td>-0.513919</td>\n",
       "      <td>0.2519</td>\n",
       "      <td>0.0</td>\n",
       "      <td>0.3</td>\n",
       "      <td>0.7</td>\n",
       "      <td>0.3</td>\n",
       "      <td>82.6</td>\n",
       "      <td>1.0</td>\n",
       "      <td>pickupper</td>\n",
       "      <td>jpblackburn</td>\n",
       "    </tr>\n",
       "  </tbody>\n",
       "</table>\n",
       "</div>"
      ],
      "text/plain": [
       "      red_0  blue_0  door_open_done  eliminated_opponents_done  \\\n",
       "0 -0.807811  0.6687             0.0                        0.1   \n",
       "1  0.298900 -0.5592             0.0                        0.6   \n",
       "2  0.973000 -1.0015             0.0                        1.0   \n",
       "3  0.142456 -0.3018             0.0                        0.6   \n",
       "4  0.715100 -0.8182             0.0                        0.9   \n",
       "5  0.960600 -1.0012             0.0                        1.0   \n",
       "6 -0.308500  0.2568             0.0                        0.0   \n",
       "7  0.314600 -0.7054             0.0                        0.5   \n",
       "8  0.940800 -1.0012             0.0                        1.0   \n",
       "9 -0.513919  0.2519             0.0                        0.3   \n",
       "\n",
       "   got_eliminated_done  eliminated_opponent_num  Episode Length  Solved Ratio  \\\n",
       "0                  0.9                      0.1            45.2           1.0   \n",
       "1                  0.2                      0.6           123.6           0.8   \n",
       "2                  0.0                      1.0             9.0           1.0   \n",
       "3                  0.4                      0.6            45.3           1.0   \n",
       "4                  0.1                      0.9            32.8           1.0   \n",
       "5                  0.0                      1.0            13.1           1.0   \n",
       "6                  0.3                      0.0           224.4           0.3   \n",
       "7                  0.0                      0.5           211.8           0.5   \n",
       "8                  0.0                      1.0            19.2           1.0   \n",
       "9                  0.7                      0.3            82.6           1.0   \n",
       "\n",
       "   red_policy_id blue_policy_id  \n",
       "0      pickupper  JaiAslamAgent  \n",
       "1    jpblackburn        blather  \n",
       "2  JaiAslamAgent      pickupper  \n",
       "3      pickupper        blather  \n",
       "4    jpblackburn      pickupper  \n",
       "5        blather      pickupper  \n",
       "6        blather  JaiAslamAgent  \n",
       "7  JaiAslamAgent        blather  \n",
       "8        blather    jpblackburn  \n",
       "9      pickupper    jpblackburn  "
      ]
     },
     "execution_count": 20,
     "metadata": {},
     "output_type": "execute_result"
    }
   ],
   "source": [
    "Death_Match_dfs_df"
   ]
  },
  {
   "cell_type": "code",
   "execution_count": 21,
   "metadata": {},
   "outputs": [
    {
     "name": "stdout",
     "output_type": "stream",
     "text": [
      "   red_policy_id     red_0  Solved Ratio\n",
      "0  JaiAslamAgent  0.643800      0.750000\n",
      "1        blather  0.530967      0.766667\n",
      "2    jpblackburn  0.507000      0.900000\n",
      "3      pickupper -0.393091      1.000000\n"
     ]
    }
   ],
   "source": [
    "import pandas as pd\n",
    "\n",
    "# Your DataFrame is stored in df\n",
    "\n",
    "# Group by 'red_policy_id' and compute the mean for 'red_0' and 'Solved Ratio'\n",
    "# Group by 'red_policy_id' and compute the mean for 'red_0' and 'Solved Ratio'\n",
    "grouped = Death_Match_dfs_df.groupby('red_policy_id')[['red_0', 'Solved Ratio']].mean()\n",
    "\n",
    "\n",
    "# Now sort the grouped DataFrame based on 'red_0' and 'Solved Ratio'\n",
    "# Sort by multiple columns by passing a list of column names\n",
    "red_ranked = grouped.sort_values(by=['red_0', 'Solved Ratio'], ascending=[False, False]).reset_index()\n",
    "\n",
    "# The 'ranked' DataFrame now contains the ranking of red policies\n",
    "# based on the average 'red_0' and 'Solved Ratio'\n",
    "print(red_ranked)\n"
   ]
  },
  {
   "cell_type": "code",
   "execution_count": 24,
   "metadata": {},
   "outputs": [
    {
     "data": {
      "text/html": [
       "<style type=\"text/css\">\n",
       "#T_b4f4c th {\n",
       "  background: #606060;\n",
       "  color: white;\n",
       "  font-family: verdana;\n",
       "}\n",
       "</style>\n",
       "<table id=\"T_b4f4c\">\n",
       "  <thead>\n",
       "    <tr>\n",
       "      <th class=\"blank level0\" >&nbsp;</th>\n",
       "      <th id=\"T_b4f4c_level0_col0\" class=\"col_heading level0 col0\" >red_policy_id</th>\n",
       "      <th id=\"T_b4f4c_level0_col1\" class=\"col_heading level0 col1\" >red_0</th>\n",
       "      <th id=\"T_b4f4c_level0_col2\" class=\"col_heading level0 col2\" >Solved Ratio</th>\n",
       "    </tr>\n",
       "  </thead>\n",
       "  <tbody>\n",
       "    <tr>\n",
       "      <th id=\"T_b4f4c_level0_row0\" class=\"row_heading level0 row0\" >0</th>\n",
       "      <td id=\"T_b4f4c_row0_col0\" class=\"data row0 col0\" >JaiAslamAgent</td>\n",
       "      <td id=\"T_b4f4c_row0_col1\" class=\"data row0 col1\" >0.643800</td>\n",
       "      <td id=\"T_b4f4c_row0_col2\" class=\"data row0 col2\" >0.750000</td>\n",
       "    </tr>\n",
       "    <tr>\n",
       "      <th id=\"T_b4f4c_level0_row1\" class=\"row_heading level0 row1\" >1</th>\n",
       "      <td id=\"T_b4f4c_row1_col0\" class=\"data row1 col0\" >blather</td>\n",
       "      <td id=\"T_b4f4c_row1_col1\" class=\"data row1 col1\" >0.530967</td>\n",
       "      <td id=\"T_b4f4c_row1_col2\" class=\"data row1 col2\" >0.766667</td>\n",
       "    </tr>\n",
       "    <tr>\n",
       "      <th id=\"T_b4f4c_level0_row2\" class=\"row_heading level0 row2\" >2</th>\n",
       "      <td id=\"T_b4f4c_row2_col0\" class=\"data row2 col0\" >jpblackburn</td>\n",
       "      <td id=\"T_b4f4c_row2_col1\" class=\"data row2 col1\" >0.507000</td>\n",
       "      <td id=\"T_b4f4c_row2_col2\" class=\"data row2 col2\" >0.900000</td>\n",
       "    </tr>\n",
       "    <tr>\n",
       "      <th id=\"T_b4f4c_level0_row3\" class=\"row_heading level0 row3\" >3</th>\n",
       "      <td id=\"T_b4f4c_row3_col0\" class=\"data row3 col0\" >pickupper</td>\n",
       "      <td id=\"T_b4f4c_row3_col1\" class=\"data row3 col1\" >-0.393091</td>\n",
       "      <td id=\"T_b4f4c_row3_col2\" class=\"data row3 col2\" >1.000000</td>\n",
       "    </tr>\n",
       "  </tbody>\n",
       "</table>\n"
      ],
      "text/plain": [
       "<pandas.io.formats.style.Styler at 0x7fb4a9a9cb50>"
      ]
     },
     "execution_count": 24,
     "metadata": {},
     "output_type": "execute_result"
    }
   ],
   "source": [
    "# Assuming your DataFrame is stored in a variable called 'df'\n",
    "styled_df = red_ranked.style.set_table_styles(\n",
    "    [{\n",
    "        'selector': 'th',\n",
    "        'props': [('background', '#606060'), \n",
    "                  ('color', 'white'),\n",
    "                  ('font-family', 'verdana')]\n",
    "    }]\n",
    ")\n",
    "\n",
    "# To display in Jupyter Notebook, just put this in a cell:\n",
    "styled_df\n"
   ]
  },
  {
   "cell_type": "code",
   "execution_count": 23,
   "metadata": {},
   "outputs": [
    {
     "data": {
      "application/vnd.plotly.v1+json": {
       "config": {
        "plotlyServerURL": "https://plot.ly"
       },
       "data": [
        {
         "colorscale": [
          [
           0,
           "#00083e"
          ],
          [
           0.5,
           "#ededee"
          ],
          [
           1,
           "#ffffff"
          ]
         ],
         "hoverinfo": "none",
         "opacity": 0.75,
         "showscale": false,
         "type": "heatmap",
         "z": [
          [
           0,
           0,
           0
          ],
          [
           0.5,
           0.5,
           0.5
          ],
          [
           1,
           1,
           1
          ],
          [
           0.5,
           0.5,
           0.5
          ],
          [
           1,
           1,
           1
          ]
         ]
        }
       ],
       "layout": {
        "annotations": [
         {
          "align": "left",
          "font": {
           "color": "#ffffff"
          },
          "showarrow": false,
          "text": "<b>red_policy_id</b>",
          "x": -0.45,
          "xanchor": "left",
          "xref": "x",
          "y": 0,
          "yref": "y"
         },
         {
          "align": "left",
          "font": {
           "color": "#ffffff"
          },
          "showarrow": false,
          "text": "<b>red_0</b>",
          "x": 0.55,
          "xanchor": "left",
          "xref": "x",
          "y": 0,
          "yref": "y"
         },
         {
          "align": "left",
          "font": {
           "color": "#ffffff"
          },
          "showarrow": false,
          "text": "<b>Solved Ratio</b>",
          "x": 1.55,
          "xanchor": "left",
          "xref": "x",
          "y": 0,
          "yref": "y"
         },
         {
          "align": "left",
          "font": {
           "color": "#000000"
          },
          "showarrow": false,
          "text": "JaiAslamAgent",
          "x": -0.45,
          "xanchor": "left",
          "xref": "x",
          "y": 1,
          "yref": "y"
         },
         {
          "align": "left",
          "font": {
           "color": "#000000"
          },
          "showarrow": false,
          "text": "0.6437999999999999",
          "x": 0.55,
          "xanchor": "left",
          "xref": "x",
          "y": 1,
          "yref": "y"
         },
         {
          "align": "left",
          "font": {
           "color": "#000000"
          },
          "showarrow": false,
          "text": "0.75",
          "x": 1.55,
          "xanchor": "left",
          "xref": "x",
          "y": 1,
          "yref": "y"
         },
         {
          "align": "left",
          "font": {
           "color": "#000000"
          },
          "showarrow": false,
          "text": "blather",
          "x": -0.45,
          "xanchor": "left",
          "xref": "x",
          "y": 2,
          "yref": "y"
         },
         {
          "align": "left",
          "font": {
           "color": "#000000"
          },
          "showarrow": false,
          "text": "0.5309666666666667",
          "x": 0.55,
          "xanchor": "left",
          "xref": "x",
          "y": 2,
          "yref": "y"
         },
         {
          "align": "left",
          "font": {
           "color": "#000000"
          },
          "showarrow": false,
          "text": "0.7666666666666666",
          "x": 1.55,
          "xanchor": "left",
          "xref": "x",
          "y": 2,
          "yref": "y"
         },
         {
          "align": "left",
          "font": {
           "color": "#000000"
          },
          "showarrow": false,
          "text": "jpblackburn",
          "x": -0.45,
          "xanchor": "left",
          "xref": "x",
          "y": 3,
          "yref": "y"
         },
         {
          "align": "left",
          "font": {
           "color": "#000000"
          },
          "showarrow": false,
          "text": "0.507",
          "x": 0.55,
          "xanchor": "left",
          "xref": "x",
          "y": 3,
          "yref": "y"
         },
         {
          "align": "left",
          "font": {
           "color": "#000000"
          },
          "showarrow": false,
          "text": "0.9",
          "x": 1.55,
          "xanchor": "left",
          "xref": "x",
          "y": 3,
          "yref": "y"
         },
         {
          "align": "left",
          "font": {
           "color": "#000000"
          },
          "showarrow": false,
          "text": "pickupper",
          "x": -0.45,
          "xanchor": "left",
          "xref": "x",
          "y": 4,
          "yref": "y"
         },
         {
          "align": "left",
          "font": {
           "color": "#000000"
          },
          "showarrow": false,
          "text": "-0.39309135131835937",
          "x": 0.55,
          "xanchor": "left",
          "xref": "x",
          "y": 4,
          "yref": "y"
         },
         {
          "align": "left",
          "font": {
           "color": "#000000"
          },
          "showarrow": false,
          "text": "1.0",
          "x": 1.55,
          "xanchor": "left",
          "xref": "x",
          "y": 4,
          "yref": "y"
         }
        ],
        "height": 200,
        "margin": {
         "b": 0,
         "l": 0,
         "r": 0,
         "t": 0
        },
        "template": {
         "data": {
          "bar": [
           {
            "error_x": {
             "color": "#2a3f5f"
            },
            "error_y": {
             "color": "#2a3f5f"
            },
            "marker": {
             "line": {
              "color": "#E5ECF6",
              "width": 0.5
             },
             "pattern": {
              "fillmode": "overlay",
              "size": 10,
              "solidity": 0.2
             }
            },
            "type": "bar"
           }
          ],
          "barpolar": [
           {
            "marker": {
             "line": {
              "color": "#E5ECF6",
              "width": 0.5
             },
             "pattern": {
              "fillmode": "overlay",
              "size": 10,
              "solidity": 0.2
             }
            },
            "type": "barpolar"
           }
          ],
          "carpet": [
           {
            "aaxis": {
             "endlinecolor": "#2a3f5f",
             "gridcolor": "white",
             "linecolor": "white",
             "minorgridcolor": "white",
             "startlinecolor": "#2a3f5f"
            },
            "baxis": {
             "endlinecolor": "#2a3f5f",
             "gridcolor": "white",
             "linecolor": "white",
             "minorgridcolor": "white",
             "startlinecolor": "#2a3f5f"
            },
            "type": "carpet"
           }
          ],
          "choropleth": [
           {
            "colorbar": {
             "outlinewidth": 0,
             "ticks": ""
            },
            "type": "choropleth"
           }
          ],
          "contour": [
           {
            "colorbar": {
             "outlinewidth": 0,
             "ticks": ""
            },
            "colorscale": [
             [
              0,
              "#0d0887"
             ],
             [
              0.1111111111111111,
              "#46039f"
             ],
             [
              0.2222222222222222,
              "#7201a8"
             ],
             [
              0.3333333333333333,
              "#9c179e"
             ],
             [
              0.4444444444444444,
              "#bd3786"
             ],
             [
              0.5555555555555556,
              "#d8576b"
             ],
             [
              0.6666666666666666,
              "#ed7953"
             ],
             [
              0.7777777777777778,
              "#fb9f3a"
             ],
             [
              0.8888888888888888,
              "#fdca26"
             ],
             [
              1,
              "#f0f921"
             ]
            ],
            "type": "contour"
           }
          ],
          "contourcarpet": [
           {
            "colorbar": {
             "outlinewidth": 0,
             "ticks": ""
            },
            "type": "contourcarpet"
           }
          ],
          "heatmap": [
           {
            "colorbar": {
             "outlinewidth": 0,
             "ticks": ""
            },
            "colorscale": [
             [
              0,
              "#0d0887"
             ],
             [
              0.1111111111111111,
              "#46039f"
             ],
             [
              0.2222222222222222,
              "#7201a8"
             ],
             [
              0.3333333333333333,
              "#9c179e"
             ],
             [
              0.4444444444444444,
              "#bd3786"
             ],
             [
              0.5555555555555556,
              "#d8576b"
             ],
             [
              0.6666666666666666,
              "#ed7953"
             ],
             [
              0.7777777777777778,
              "#fb9f3a"
             ],
             [
              0.8888888888888888,
              "#fdca26"
             ],
             [
              1,
              "#f0f921"
             ]
            ],
            "type": "heatmap"
           }
          ],
          "heatmapgl": [
           {
            "colorbar": {
             "outlinewidth": 0,
             "ticks": ""
            },
            "colorscale": [
             [
              0,
              "#0d0887"
             ],
             [
              0.1111111111111111,
              "#46039f"
             ],
             [
              0.2222222222222222,
              "#7201a8"
             ],
             [
              0.3333333333333333,
              "#9c179e"
             ],
             [
              0.4444444444444444,
              "#bd3786"
             ],
             [
              0.5555555555555556,
              "#d8576b"
             ],
             [
              0.6666666666666666,
              "#ed7953"
             ],
             [
              0.7777777777777778,
              "#fb9f3a"
             ],
             [
              0.8888888888888888,
              "#fdca26"
             ],
             [
              1,
              "#f0f921"
             ]
            ],
            "type": "heatmapgl"
           }
          ],
          "histogram": [
           {
            "marker": {
             "pattern": {
              "fillmode": "overlay",
              "size": 10,
              "solidity": 0.2
             }
            },
            "type": "histogram"
           }
          ],
          "histogram2d": [
           {
            "colorbar": {
             "outlinewidth": 0,
             "ticks": ""
            },
            "colorscale": [
             [
              0,
              "#0d0887"
             ],
             [
              0.1111111111111111,
              "#46039f"
             ],
             [
              0.2222222222222222,
              "#7201a8"
             ],
             [
              0.3333333333333333,
              "#9c179e"
             ],
             [
              0.4444444444444444,
              "#bd3786"
             ],
             [
              0.5555555555555556,
              "#d8576b"
             ],
             [
              0.6666666666666666,
              "#ed7953"
             ],
             [
              0.7777777777777778,
              "#fb9f3a"
             ],
             [
              0.8888888888888888,
              "#fdca26"
             ],
             [
              1,
              "#f0f921"
             ]
            ],
            "type": "histogram2d"
           }
          ],
          "histogram2dcontour": [
           {
            "colorbar": {
             "outlinewidth": 0,
             "ticks": ""
            },
            "colorscale": [
             [
              0,
              "#0d0887"
             ],
             [
              0.1111111111111111,
              "#46039f"
             ],
             [
              0.2222222222222222,
              "#7201a8"
             ],
             [
              0.3333333333333333,
              "#9c179e"
             ],
             [
              0.4444444444444444,
              "#bd3786"
             ],
             [
              0.5555555555555556,
              "#d8576b"
             ],
             [
              0.6666666666666666,
              "#ed7953"
             ],
             [
              0.7777777777777778,
              "#fb9f3a"
             ],
             [
              0.8888888888888888,
              "#fdca26"
             ],
             [
              1,
              "#f0f921"
             ]
            ],
            "type": "histogram2dcontour"
           }
          ],
          "mesh3d": [
           {
            "colorbar": {
             "outlinewidth": 0,
             "ticks": ""
            },
            "type": "mesh3d"
           }
          ],
          "parcoords": [
           {
            "line": {
             "colorbar": {
              "outlinewidth": 0,
              "ticks": ""
             }
            },
            "type": "parcoords"
           }
          ],
          "pie": [
           {
            "automargin": true,
            "type": "pie"
           }
          ],
          "scatter": [
           {
            "fillpattern": {
             "fillmode": "overlay",
             "size": 10,
             "solidity": 0.2
            },
            "type": "scatter"
           }
          ],
          "scatter3d": [
           {
            "line": {
             "colorbar": {
              "outlinewidth": 0,
              "ticks": ""
             }
            },
            "marker": {
             "colorbar": {
              "outlinewidth": 0,
              "ticks": ""
             }
            },
            "type": "scatter3d"
           }
          ],
          "scattercarpet": [
           {
            "marker": {
             "colorbar": {
              "outlinewidth": 0,
              "ticks": ""
             }
            },
            "type": "scattercarpet"
           }
          ],
          "scattergeo": [
           {
            "marker": {
             "colorbar": {
              "outlinewidth": 0,
              "ticks": ""
             }
            },
            "type": "scattergeo"
           }
          ],
          "scattergl": [
           {
            "marker": {
             "colorbar": {
              "outlinewidth": 0,
              "ticks": ""
             }
            },
            "type": "scattergl"
           }
          ],
          "scattermapbox": [
           {
            "marker": {
             "colorbar": {
              "outlinewidth": 0,
              "ticks": ""
             }
            },
            "type": "scattermapbox"
           }
          ],
          "scatterpolar": [
           {
            "marker": {
             "colorbar": {
              "outlinewidth": 0,
              "ticks": ""
             }
            },
            "type": "scatterpolar"
           }
          ],
          "scatterpolargl": [
           {
            "marker": {
             "colorbar": {
              "outlinewidth": 0,
              "ticks": ""
             }
            },
            "type": "scatterpolargl"
           }
          ],
          "scatterternary": [
           {
            "marker": {
             "colorbar": {
              "outlinewidth": 0,
              "ticks": ""
             }
            },
            "type": "scatterternary"
           }
          ],
          "surface": [
           {
            "colorbar": {
             "outlinewidth": 0,
             "ticks": ""
            },
            "colorscale": [
             [
              0,
              "#0d0887"
             ],
             [
              0.1111111111111111,
              "#46039f"
             ],
             [
              0.2222222222222222,
              "#7201a8"
             ],
             [
              0.3333333333333333,
              "#9c179e"
             ],
             [
              0.4444444444444444,
              "#bd3786"
             ],
             [
              0.5555555555555556,
              "#d8576b"
             ],
             [
              0.6666666666666666,
              "#ed7953"
             ],
             [
              0.7777777777777778,
              "#fb9f3a"
             ],
             [
              0.8888888888888888,
              "#fdca26"
             ],
             [
              1,
              "#f0f921"
             ]
            ],
            "type": "surface"
           }
          ],
          "table": [
           {
            "cells": {
             "fill": {
              "color": "#EBF0F8"
             },
             "line": {
              "color": "white"
             }
            },
            "header": {
             "fill": {
              "color": "#C8D4E3"
             },
             "line": {
              "color": "white"
             }
            },
            "type": "table"
           }
          ]
         },
         "layout": {
          "annotationdefaults": {
           "arrowcolor": "#2a3f5f",
           "arrowhead": 0,
           "arrowwidth": 1
          },
          "autotypenumbers": "strict",
          "coloraxis": {
           "colorbar": {
            "outlinewidth": 0,
            "ticks": ""
           }
          },
          "colorscale": {
           "diverging": [
            [
             0,
             "#8e0152"
            ],
            [
             0.1,
             "#c51b7d"
            ],
            [
             0.2,
             "#de77ae"
            ],
            [
             0.3,
             "#f1b6da"
            ],
            [
             0.4,
             "#fde0ef"
            ],
            [
             0.5,
             "#f7f7f7"
            ],
            [
             0.6,
             "#e6f5d0"
            ],
            [
             0.7,
             "#b8e186"
            ],
            [
             0.8,
             "#7fbc41"
            ],
            [
             0.9,
             "#4d9221"
            ],
            [
             1,
             "#276419"
            ]
           ],
           "sequential": [
            [
             0,
             "#0d0887"
            ],
            [
             0.1111111111111111,
             "#46039f"
            ],
            [
             0.2222222222222222,
             "#7201a8"
            ],
            [
             0.3333333333333333,
             "#9c179e"
            ],
            [
             0.4444444444444444,
             "#bd3786"
            ],
            [
             0.5555555555555556,
             "#d8576b"
            ],
            [
             0.6666666666666666,
             "#ed7953"
            ],
            [
             0.7777777777777778,
             "#fb9f3a"
            ],
            [
             0.8888888888888888,
             "#fdca26"
            ],
            [
             1,
             "#f0f921"
            ]
           ],
           "sequentialminus": [
            [
             0,
             "#0d0887"
            ],
            [
             0.1111111111111111,
             "#46039f"
            ],
            [
             0.2222222222222222,
             "#7201a8"
            ],
            [
             0.3333333333333333,
             "#9c179e"
            ],
            [
             0.4444444444444444,
             "#bd3786"
            ],
            [
             0.5555555555555556,
             "#d8576b"
            ],
            [
             0.6666666666666666,
             "#ed7953"
            ],
            [
             0.7777777777777778,
             "#fb9f3a"
            ],
            [
             0.8888888888888888,
             "#fdca26"
            ],
            [
             1,
             "#f0f921"
            ]
           ]
          },
          "colorway": [
           "#636efa",
           "#EF553B",
           "#00cc96",
           "#ab63fa",
           "#FFA15A",
           "#19d3f3",
           "#FF6692",
           "#B6E880",
           "#FF97FF",
           "#FECB52"
          ],
          "font": {
           "color": "#2a3f5f"
          },
          "geo": {
           "bgcolor": "white",
           "lakecolor": "white",
           "landcolor": "#E5ECF6",
           "showlakes": true,
           "showland": true,
           "subunitcolor": "white"
          },
          "hoverlabel": {
           "align": "left"
          },
          "hovermode": "closest",
          "mapbox": {
           "style": "light"
          },
          "paper_bgcolor": "white",
          "plot_bgcolor": "#E5ECF6",
          "polar": {
           "angularaxis": {
            "gridcolor": "white",
            "linecolor": "white",
            "ticks": ""
           },
           "bgcolor": "#E5ECF6",
           "radialaxis": {
            "gridcolor": "white",
            "linecolor": "white",
            "ticks": ""
           }
          },
          "scene": {
           "xaxis": {
            "backgroundcolor": "#E5ECF6",
            "gridcolor": "white",
            "gridwidth": 2,
            "linecolor": "white",
            "showbackground": true,
            "ticks": "",
            "zerolinecolor": "white"
           },
           "yaxis": {
            "backgroundcolor": "#E5ECF6",
            "gridcolor": "white",
            "gridwidth": 2,
            "linecolor": "white",
            "showbackground": true,
            "ticks": "",
            "zerolinecolor": "white"
           },
           "zaxis": {
            "backgroundcolor": "#E5ECF6",
            "gridcolor": "white",
            "gridwidth": 2,
            "linecolor": "white",
            "showbackground": true,
            "ticks": "",
            "zerolinecolor": "white"
           }
          },
          "shapedefaults": {
           "line": {
            "color": "#2a3f5f"
           }
          },
          "ternary": {
           "aaxis": {
            "gridcolor": "white",
            "linecolor": "white",
            "ticks": ""
           },
           "baxis": {
            "gridcolor": "white",
            "linecolor": "white",
            "ticks": ""
           },
           "bgcolor": "#E5ECF6",
           "caxis": {
            "gridcolor": "white",
            "linecolor": "white",
            "ticks": ""
           }
          },
          "title": {
           "x": 0.05
          },
          "xaxis": {
           "automargin": true,
           "gridcolor": "white",
           "linecolor": "white",
           "ticks": "",
           "title": {
            "standoff": 15
           },
           "zerolinecolor": "white",
           "zerolinewidth": 2
          },
          "yaxis": {
           "automargin": true,
           "gridcolor": "white",
           "linecolor": "white",
           "ticks": "",
           "title": {
            "standoff": 15
           },
           "zerolinecolor": "white",
           "zerolinewidth": 2
          }
         }
        },
        "xaxis": {
         "dtick": 1,
         "gridwidth": 2,
         "showticklabels": false,
         "tick0": -0.5,
         "ticks": "",
         "zeroline": false
        },
        "yaxis": {
         "autorange": "reversed",
         "dtick": 1,
         "gridwidth": 2,
         "showticklabels": false,
         "tick0": 0.5,
         "ticks": "",
         "zeroline": false
        }
       }
      }
     },
     "metadata": {},
     "output_type": "display_data"
    }
   ],
   "source": [
    "import plotly.figure_factory as ff\n",
    "\n",
    "# Assuming your DataFrame is stored in a variable called 'df'\n",
    "fig = ff.create_table(red_ranked)\n",
    "fig.show()\n"
   ]
  },
  {
   "cell_type": "code",
   "execution_count": null,
   "metadata": {},
   "outputs": [],
   "source": []
  },
  {
   "cell_type": "code",
   "execution_count": 32,
   "metadata": {},
   "outputs": [],
   "source": [
    "red_ranked = red_ranked.rename(columns={'red_0' : \"Average Reward as Red\", 'Solved Ratio': \"Win Rate\"})"
   ]
  },
  {
   "cell_type": "code",
   "execution_count": 33,
   "metadata": {},
   "outputs": [
    {
     "data": {
      "text/html": [
       "<style type=\"text/css\">\n",
       "#T_295c7 th {\n",
       "  background: #606060;\n",
       "  color: white;\n",
       "  font-family: verdana;\n",
       "}\n",
       "</style>\n",
       "<table id=\"T_295c7\">\n",
       "  <thead>\n",
       "    <tr>\n",
       "      <th class=\"blank level0\" >&nbsp;</th>\n",
       "      <th id=\"T_295c7_level0_col0\" class=\"col_heading level0 col0\" >red_policy_id</th>\n",
       "      <th id=\"T_295c7_level0_col1\" class=\"col_heading level0 col1\" >Average Reward as Red</th>\n",
       "      <th id=\"T_295c7_level0_col2\" class=\"col_heading level0 col2\" >Win Rate</th>\n",
       "    </tr>\n",
       "  </thead>\n",
       "  <tbody>\n",
       "    <tr>\n",
       "      <th id=\"T_295c7_level0_row0\" class=\"row_heading level0 row0\" >0</th>\n",
       "      <td id=\"T_295c7_row0_col0\" class=\"data row0 col0\" >JaiAslamAgent</td>\n",
       "      <td id=\"T_295c7_row0_col1\" class=\"data row0 col1\" >0.643800</td>\n",
       "      <td id=\"T_295c7_row0_col2\" class=\"data row0 col2\" >0.750000</td>\n",
       "    </tr>\n",
       "    <tr>\n",
       "      <th id=\"T_295c7_level0_row1\" class=\"row_heading level0 row1\" >1</th>\n",
       "      <td id=\"T_295c7_row1_col0\" class=\"data row1 col0\" >blather</td>\n",
       "      <td id=\"T_295c7_row1_col1\" class=\"data row1 col1\" >0.530967</td>\n",
       "      <td id=\"T_295c7_row1_col2\" class=\"data row1 col2\" >0.766667</td>\n",
       "    </tr>\n",
       "    <tr>\n",
       "      <th id=\"T_295c7_level0_row2\" class=\"row_heading level0 row2\" >2</th>\n",
       "      <td id=\"T_295c7_row2_col0\" class=\"data row2 col0\" >jpblackburn</td>\n",
       "      <td id=\"T_295c7_row2_col1\" class=\"data row2 col1\" >0.507000</td>\n",
       "      <td id=\"T_295c7_row2_col2\" class=\"data row2 col2\" >0.900000</td>\n",
       "    </tr>\n",
       "    <tr>\n",
       "      <th id=\"T_295c7_level0_row3\" class=\"row_heading level0 row3\" >3</th>\n",
       "      <td id=\"T_295c7_row3_col0\" class=\"data row3 col0\" >pickupper</td>\n",
       "      <td id=\"T_295c7_row3_col1\" class=\"data row3 col1\" >-0.393091</td>\n",
       "      <td id=\"T_295c7_row3_col2\" class=\"data row3 col2\" >1.000000</td>\n",
       "    </tr>\n",
       "  </tbody>\n",
       "</table>\n"
      ],
      "text/plain": [
       "<pandas.io.formats.style.Styler at 0x7fb4484829b0>"
      ]
     },
     "execution_count": 33,
     "metadata": {},
     "output_type": "execute_result"
    }
   ],
   "source": [
    "# Assuming your DataFrame is stored in a variable called 'df'\n",
    "styled_df = red_ranked.style.set_table_styles(\n",
    "    [{\n",
    "        'selector': 'th',\n",
    "        'props': [('background', '#606060'), \n",
    "                  ('color', 'white'),\n",
    "                  ('font-family', 'verdana')]\n",
    "    }]\n",
    ")\n",
    "\n",
    "# To display in Jupyter Notebook, just put this in a cell:\n",
    "styled_df\n"
   ]
  },
  {
   "cell_type": "code",
   "execution_count": 34,
   "metadata": {},
   "outputs": [
    {
     "data": {
      "image/png": "[encoded data removed]",
      "text/plain": [
       "<Figure size 1000x600 with 2 Axes>"
      ]
     },
     "metadata": {},
     "output_type": "display_data"
    }
   ],
   "source": [
    "fig, ax1 = plt.subplots(figsize=(10, 6))\n",
    "\n",
    "# Bar plot for Average Reward\n",
    "sns.barplot(data=red_ranked, x='red_policy_id', y='Average Reward as Red', palette='viridis', ax=ax1)\n",
    "ax1.set_title('Average Reward and Win Rate for each Policy')\n",
    "\n",
    "# Line plot for Win Rate\n",
    "ax2 = ax1.twinx()\n",
    "sns.lineplot(data=red_ranked, x='red_policy_id', y='Win Rate', color='b', marker=\"o\", ax=ax2)\n",
    "ax2.set_ylabel('Win Rate')\n",
    "\n",
    "plt.show()"
   ]
  },
  {
   "cell_type": "code",
   "execution_count": null,
   "metadata": {},
   "outputs": [],
   "source": []
  },
  {
   "cell_type": "code",
   "execution_count": 28,
   "metadata": {},
   "outputs": [
    {
     "name": "stdout",
     "output_type": "stream",
     "text": [
      "  blue_policy_id    blue_0  Solved Ratio\n",
      "0  JaiAslamAgent  0.462750      0.650000\n",
      "1    jpblackburn -0.374650      1.000000\n",
      "2        blather -0.522133      0.766667\n",
      "3      pickupper -0.940300      1.000000\n"
     ]
    }
   ],
   "source": [
    "import pandas as pd\n",
    "\n",
    "# Your DataFrame is stored in df\n",
    "\n",
    "# Group by 'red_policy_id' and compute the mean for 'red_0' and 'Solved Ratio'\n",
    "# Group by 'red_policy_id' and compute the mean for 'red_0' and 'Solved Ratio'\n",
    "grouped = Death_Match_dfs_df.groupby('blue_policy_id')[['blue_0', 'Solved Ratio']].mean()\n",
    "\n",
    "\n",
    "# Now sort the grouped DataFrame based on 'red_0' and 'Solved Ratio'\n",
    "# Sort by multiple columns by passing a list of column names\n",
    "blue_ranked = grouped.sort_values(by=['blue_0', 'Solved Ratio'], ascending=[False, False]).reset_index()\n",
    "\n",
    "# The 'ranked' DataFrame now contains the ranking of red policies\n",
    "# based on the average 'red_0' and 'Solved Ratio'\n",
    "print(blue_ranked)\n"
   ]
  },
  {
   "cell_type": "code",
   "execution_count": 29,
   "metadata": {},
   "outputs": [],
   "source": [
    "# # Assuming your DataFrame is stored in a variable called 'df'\n",
    "# styled_df = red_ranked.style.set_table_styles(\n",
    "#     [{\n",
    "#         'selector': 'th',\n",
    "#         'props': [('background', '#606060'), \n",
    "#                   ('color', 'white'),\n",
    "#                   ('font-family', 'verdana')]\n",
    "#     }]\n",
    "# )\n",
    "\n",
    "# # To display in Jupyter Notebook, just put this in a cell:\n",
    "# styled_df\n"
   ]
  },
  {
   "cell_type": "code",
   "execution_count": 30,
   "metadata": {},
   "outputs": [],
   "source": [
    "blue_ranked = blue_ranked.rename(columns={'blue_0' : \"Average Reward as Blue\", 'Solved Ratio': \"Win Rate\"})"
   ]
  },
  {
   "cell_type": "code",
   "execution_count": 31,
   "metadata": {},
   "outputs": [
    {
     "data": {
      "text/html": [
       "<style type=\"text/css\">\n",
       "#T_83b40 th {\n",
       "  background: #606060;\n",
       "  color: white;\n",
       "  font-family: verdana;\n",
       "}\n",
       "</style>\n",
       "<table id=\"T_83b40\">\n",
       "  <thead>\n",
       "    <tr>\n",
       "      <th class=\"blank level0\" >&nbsp;</th>\n",
       "      <th id=\"T_83b40_level0_col0\" class=\"col_heading level0 col0\" >blue_policy_id</th>\n",
       "      <th id=\"T_83b40_level0_col1\" class=\"col_heading level0 col1\" >Average Reward as Blue</th>\n",
       "      <th id=\"T_83b40_level0_col2\" class=\"col_heading level0 col2\" >Win Rate</th>\n",
       "    </tr>\n",
       "  </thead>\n",
       "  <tbody>\n",
       "    <tr>\n",
       "      <th id=\"T_83b40_level0_row0\" class=\"row_heading level0 row0\" >0</th>\n",
       "      <td id=\"T_83b40_row0_col0\" class=\"data row0 col0\" >JaiAslamAgent</td>\n",
       "      <td id=\"T_83b40_row0_col1\" class=\"data row0 col1\" >0.462750</td>\n",
       "      <td id=\"T_83b40_row0_col2\" class=\"data row0 col2\" >0.650000</td>\n",
       "    </tr>\n",
       "    <tr>\n",
       "      <th id=\"T_83b40_level0_row1\" class=\"row_heading level0 row1\" >1</th>\n",
       "      <td id=\"T_83b40_row1_col0\" class=\"data row1 col0\" >jpblackburn</td>\n",
       "      <td id=\"T_83b40_row1_col1\" class=\"data row1 col1\" >-0.374650</td>\n",
       "      <td id=\"T_83b40_row1_col2\" class=\"data row1 col2\" >1.000000</td>\n",
       "    </tr>\n",
       "    <tr>\n",
       "      <th id=\"T_83b40_level0_row2\" class=\"row_heading level0 row2\" >2</th>\n",
       "      <td id=\"T_83b40_row2_col0\" class=\"data row2 col0\" >blather</td>\n",
       "      <td id=\"T_83b40_row2_col1\" class=\"data row2 col1\" >-0.522133</td>\n",
       "      <td id=\"T_83b40_row2_col2\" class=\"data row2 col2\" >0.766667</td>\n",
       "    </tr>\n",
       "    <tr>\n",
       "      <th id=\"T_83b40_level0_row3\" class=\"row_heading level0 row3\" >3</th>\n",
       "      <td id=\"T_83b40_row3_col0\" class=\"data row3 col0\" >pickupper</td>\n",
       "      <td id=\"T_83b40_row3_col1\" class=\"data row3 col1\" >-0.940300</td>\n",
       "      <td id=\"T_83b40_row3_col2\" class=\"data row3 col2\" >1.000000</td>\n",
       "    </tr>\n",
       "  </tbody>\n",
       "</table>\n"
      ],
      "text/plain": [
       "<pandas.io.formats.style.Styler at 0x7fb478b0ae00>"
      ]
     },
     "execution_count": 31,
     "metadata": {},
     "output_type": "execute_result"
    }
   ],
   "source": [
    "# Assuming your DataFrame is stored in a variable called 'df'\n",
    "styled_df = blue_ranked.style.set_table_styles(\n",
    "    [{\n",
    "        'selector': 'th',\n",
    "        'props': [('background', '#606060'), \n",
    "                  ('color', 'white'),\n",
    "                  ('font-family', 'verdana')]\n",
    "    }]\n",
    ")\n",
    "\n",
    "# To display in Jupyter Notebook, just put this in a cell:\n",
    "styled_df\n"
   ]
  },
  {
   "cell_type": "code",
   "execution_count": 37,
   "metadata": {},
   "outputs": [
    {
     "data": {
      "image/png": "[encoded data removed]",
      "text/plain": [
       "<Figure size 1000x600 with 2 Axes>"
      ]
     },
     "metadata": {},
     "output_type": "display_data"
    }
   ],
   "source": [
    "fig, ax1 = plt.subplots(figsize=(10, 6))\n",
    "\n",
    "# Bar plot for Average Reward\n",
    "sns.barplot(data=blue_ranked, x='blue_policy_id', y='Average Reward as Blue', palette='viridis', ax=ax1)\n",
    "ax1.set_title('Average Reward and Win Rate for each Policy')\n",
    "\n",
    "# Line plot for Win Rate\n",
    "ax2 = ax1.twinx()\n",
    "sns.lineplot(data=blue_ranked, x='blue_policy_id', y='Win Rate', color='b', marker=\"o\", ax=ax2)\n",
    "ax2.set_ylabel('Win Rate')\n",
    "\n",
    "plt.show()"
   ]
  },
  {
   "cell_type": "code",
   "execution_count": null,
   "metadata": {},
   "outputs": [],
   "source": []
  }
 ],
 "metadata": {
  "interpreter": {
   "hash": "7608aa2f5a6b9a797df95467602054fd0542a26fcc56ee0642ff8264427d0cbe"
  },
  "kernelspec": {
   "display_name": "Python 3.10.12 ('rl_class_env_test')",
   "language": "python",
   "name": "python3"
  },
  "language_info": {
   "codemirror_mode": {
    "name": "ipython",
    "version": 3
   },
   "file_extension": ".py",
   "mimetype": "text/x-python",
   "name": "python",
   "nbconvert_exporter": "python",
   "pygments_lexer": "ipython3",
   "version": "3.10.12"
  },
  "orig_nbformat": 4
 },
 "nbformat": 4,
 "nbformat_minor": 2
}
